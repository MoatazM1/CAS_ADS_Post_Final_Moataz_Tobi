{
 "cells": [
  {
   "cell_type": "code",
   "execution_count": 1,
   "id": "84867afb",
   "metadata": {},
   "outputs": [],
   "source": [
    "\n",
    "import numpy as np\n",
    "import gymnasium as gym\n",
    "from gymnasium import spaces\n",
    "import matplotlib.pyplot as plt\n",
    "from stable_baselines3 import DQN\n",
    "from stable_baselines3.common.vec_env import DummyVecEnv\n"
   ]
  },
  {
   "cell_type": "code",
   "execution_count": 2,
   "id": "390197d2",
   "metadata": {},
   "outputs": [],
   "source": [
    "\n",
    "class PackagingCenterEnv(gym.Env):\n",
    "    def __init__(self):\n",
    "        super(PackagingCenterEnv, self).__init__()\n",
    "        self.observation_space = spaces.Box(low=0, high=1, shape=(3,), dtype=np.float32)  # [load, hour, zip_count]\n",
    "        self.action_space = spaces.Discrete(2)  # 0 = do nothing, 1 = reroute\n",
    "        self.current_step = 0\n",
    "        self.max_steps = 50\n",
    "        self.state = None\n",
    "        self.feature_names = ['CHUTE_LOAD', 'HOUR', 'ZIP_COUNT']\n",
    "\n",
    "    def reset(self, seed=None, options=None):\n",
    "        self.current_step = 0\n",
    "        self.state = np.array([0.4, 0.0, 1.0], dtype=np.float32)  # moderate load\n",
    "        return self.state, {}\n",
    "\n",
    "    def step(self, action):\n",
    "        self.current_step += 1\n",
    "        load, hour, zip_count = self.state\n",
    "\n",
    "        # Simulate spike\n",
    "        if self.current_step in [10, 20, 35]:\n",
    "            load += 0.6  # spike\n",
    "\n",
    "        # Processing delay\n",
    "        delay = load * (1.2 if action == 0 else 0.9) + np.random.normal(0, 0.05)\n",
    "        reward = -delay\n",
    "\n",
    "        # Reward shaping: penalize overload\n",
    "        if load > 0.9:\n",
    "            reward -= 2\n",
    "        if action == 1 and delay < 2:\n",
    "            reward += 1\n",
    "\n",
    "        # Clip and update state\n",
    "        load = min(max(load + np.random.normal(0, 0.02), 0), 1)\n",
    "        hour = (hour + 1) % 24\n",
    "        zip_count = np.clip(zip_count + np.random.normal(0, 0.1), 0, 10)\n",
    "        self.state = np.array([load, hour, zip_count], dtype=np.float32)\n",
    "\n",
    "        done = self.current_step >= self.max_steps\n",
    "        return self.state, reward, done, False, {}\n"
   ]
  },
  {
   "cell_type": "code",
   "execution_count": 3,
   "id": "7e301947",
   "metadata": {},
   "outputs": [
    {
     "data": {
      "text/plain": [
       "<stable_baselines3.dqn.dqn.DQN at 0x2b3c447e4e0>"
      ]
     },
     "execution_count": 3,
     "metadata": {},
     "output_type": "execute_result"
    }
   ],
   "source": [
    "\n",
    "env = DummyVecEnv([lambda: PackagingCenterEnv()])\n",
    "model = DQN(\"MlpPolicy\", env, verbose=0, tensorboard_log=\"./logs\")\n",
    "model.learn(total_timesteps=5000)\n"
   ]
  },
  {
   "cell_type": "code",
   "execution_count": 6,
   "id": "22176b4c",
   "metadata": {},
   "outputs": [
    {
     "name": "stdout",
     "output_type": "stream",
     "text": [
      "Total Reward: -71.964874\n"
     ]
    },
    {
     "name": "stderr",
     "output_type": "stream",
     "text": [
      "C:\\Users\\mansourmoa\\AppData\\Local\\Temp\\ipykernel_16828\\2680595033.py:10: DeprecationWarning: Conversion of an array with ndim > 0 to a scalar is deprecated, and will error in future. Ensure you extract a single element from your array before performing this operation. (Deprecated NumPy 1.25.)\n",
      "  actions.append(int(action))\n"
     ]
    }
   ],
   "source": [
    "obs = env.reset()\n",
    "done = False\n",
    "rewards = []\n",
    "actions = []\n",
    "\n",
    "while not done:\n",
    "    action, _ = model.predict(obs, deterministic=True)\n",
    "    obs, reward, done, info = env.step(action)\n",
    "    rewards.append(reward[0])  # reward is in list format\n",
    "    actions.append(int(action))\n",
    "\n",
    "print(\"Total Reward:\", sum(rewards))\n"
   ]
  }
 ],
 "metadata": {
  "kernelspec": {
   "display_name": "Python 3",
   "language": "python",
   "name": "python3"
  },
  "language_info": {
   "codemirror_mode": {
    "name": "ipython",
    "version": 3
   },
   "file_extension": ".py",
   "mimetype": "text/x-python",
   "name": "python",
   "nbconvert_exporter": "python",
   "pygments_lexer": "ipython3",
   "version": "3.12.9"
  }
 },
 "nbformat": 4,
 "nbformat_minor": 5
}
